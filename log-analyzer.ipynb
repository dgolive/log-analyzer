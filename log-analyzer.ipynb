{
 "cells": [
  {
   "cell_type": "code",
   "execution_count": null,
   "metadata": {},
   "outputs": [],
   "source": [
    "import os\n",
    "import re\n",
    "from datetime import datetime\n",
    "\n",
    "import re\n",
    "import pandas as pd\n",
    "\n",
    "log_directory = 'logs' # Replace with the correct Openstack Logs folder path\n",
    "\n",
    "target_date_time = datetime(2023, 10, 20, 12, 00, 00)  # Replace with your desired date and time\n",
    "\n",
    "# print(\"\")\n",
    "# print(\"Openstack Log Analyser\")\n",
    "# print(\"Enter with year, month, day, hour, minutes and seconds. The logs will gather from this date onwards\")\n",
    "# set_date_time_ge = int(input(\"sample format: 2023, 10, 30, 12, 00, 00: \"))\n",
    "# print(set_date_time_ge)\n",
    "# target_date_time = datetime(set_date_time_ge) \n",
    "\n",
    "error_patterns = [\n",
    "    r'ERROR',  # Add more error patterns as needed\n",
    "    r'Exception',\n",
    "    r'failed',\n",
    "]\n",
    "\n",
    "for root, dirs, files in os.walk(log_directory):\n",
    "    for file in files:\n",
    "        if file.endswith('.log'):\n",
    "            log_file_path = os.path.join(root, file)\n",
    "            with open(log_file_path, 'r') as log_file:\n",
    "                for line_number, line in enumerate(log_file, start=1):\n",
    "                    log_timestamp = re.search(r'\\d{4}-\\d{2}-\\d{2} \\d{2}:\\d{2}:\\d{2}', line)\n",
    "                    if log_timestamp:\n",
    "                        log_timestamp = datetime.strptime(log_timestamp.group(), '%Y-%m-%d %H:%M:%S')\n",
    "                        if log_timestamp >= target_date_time:\n",
    "                            if any(re.search(pattern, line) for pattern in error_patterns):\n",
    "                                # print(f'Error message found in: {log_file_path} (Line {line_number}): {line}')\n",
    "                                arr_errors = []\n",
    "                                for line in log_file:\n",
    "                                    if re.search('ERROR', line) and re.search('] ', line):\n",
    "                                        arr_errors.append( line.split('] ')[-1].strip() )\n",
    "                            pd.set_option('display.max_colwidth', None)\n",
    "                            df = pd.DataFrame(arr_errors)\n",
    "                            df.columns = ['mgs']\n",
    "                            df = df.groupby(['mgs']).size().reset_index()\n",
    "                            df.columns = ['mgs', 'count']\n",
    "                            print(df)"
   ]
  }
 ],
 "metadata": {
  "language_info": {
   "name": "python"
  }
 },
 "nbformat": 4,
 "nbformat_minor": 2
}
